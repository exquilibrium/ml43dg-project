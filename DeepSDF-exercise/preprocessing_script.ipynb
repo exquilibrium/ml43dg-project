{
 "cells": [
  {
   "cell_type": "code",
   "execution_count": null,
   "id": "9b26a1aa-a6cc-42d6-9a99-e8ebf253b055",
   "metadata": {
    "ExecuteTime": {
     "end_time": "2024-07-24T06:59:53.451363900Z",
     "start_time": "2024-07-24T06:59:53.426996500Z"
    }
   },
   "outputs": [],
   "source": [
    "import shutil\n",
    "import objaverse\n",
    "from pathlib import Path\n",
    "import random\n",
    "import os"
   ]
  },
  {
   "cell_type": "code",
   "execution_count": null,
   "id": "44105de0-9aad-4017-bf2e-a40a4832dd66",
   "metadata": {},
   "outputs": [],
   "source": [
    "# Downloading sofas, tables, and vases\n",
    "\n",
    "download_path = Path(\"./ml43dg/data/objaverse/\")\n",
    "\n",
    "for class_name in ['sofa', 'table', 'vase']:\n",
    "    print(\"Downloading \" + (class_name+\"s\"))\n",
    "    lvis_annotations = objaverse.load_lvis_annotations()\n",
    "    random.seed(42)\n",
    "    uids = lvis_annotations[class_name]\n",
    "    uids = random.sample(uids, 5)\n",
    "\n",
    "    objects = objaverse.load_objects(\n",
    "        uids=uids,\n",
    "    )\n",
    "\n",
    "    for objaverse_id, file_path in objects.items():\n",
    "        if not Path(download_path / (class_name+\"s\") / objaverse_id).exists():\n",
    "            Path(download_path / (class_name+\"s\")).mkdir(parents=True, exist_ok=True)\n",
    "        shutil.move(file_path, download_path / (class_name+\"s\") )"
   ]
  },
  {
   "cell_type": "code",
   "execution_count": null,
   "id": "f0e467e4-abf8-41bb-b4a5-27a8f32d8e01",
   "metadata": {
    "ExecuteTime": {
     "end_time": "2024-07-24T06:59:55.114154Z",
     "start_time": "2024-07-24T06:59:55.101561800Z"
    }
   },
   "outputs": [],
   "source": [
    "from ml43dg.data.preprocessing import preprocess\n",
    "\n",
    "classes = ['tables', 'sofas', 'chairs', 'vases']\n",
    "class_directories = {}\n",
    "for class_name in classes:\n",
    "    files = os.listdir(\"./ml43dg/data/objaverse/\"+class_name)\n",
    "    class_directories[class_name] = []\n",
    "    for file in files:\n",
    "        filename = Path(file).stem\n",
    "        class_directories[class_name].append(filename)\n",
    "\n",
    "for class_name in class_directories:\n",
    "    random.seed(42)\n",
    "    random.shuffle(class_directories[class_name])\n",
    "    chunk = {class_name: class_directories[class_name][:80]}\n",
    "    print(chunk)\n",
    "    preprocess(data_dir=\"./ml43dg/data/preprocessed/\", source_dir=\"./ml43dg/data/objaverse/\", source_name=\"objaverse\", class_directories=chunk, number_of_points=200000, extension=\".glb\")\n"
   ]
  }
 ],
 "metadata": {
  "kernelspec": {
   "display_name": "Python 3 (ipykernel)",
   "language": "python",
   "name": "python3"
  },
  "language_info": {
   "codemirror_mode": {
    "name": "ipython",
    "version": 3
   },
   "file_extension": ".py",
   "mimetype": "text/x-python",
   "name": "python",
   "nbconvert_exporter": "python",
   "pygments_lexer": "ipython3",
   "version": "3.12.3"
  }
 },
 "nbformat": 4,
 "nbformat_minor": 5
}
